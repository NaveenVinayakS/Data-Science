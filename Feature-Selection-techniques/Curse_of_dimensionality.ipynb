{
 "cells": [
  {
   "cell_type": "markdown",
   "metadata": {},
   "source": [
    "Curse of Dimentionality\n",
    "\n",
    "Dimentions - Dimentions are also called Features(independent or target output feature)\n",
    "\n",
    "Curse of Dimentionality means that , suppose we are creating multiple model for a data set with increasing the feature for \n",
    "each and every model(M1 - 2 Feature , M2 - 3 Feature......M10 etc)here M2 will have higher accuracy then M1, see as we go \n",
    "on increasing the feature for model our Accuracy will keep increasing.\n",
    "\n",
    "but after some time/threshold value(10 features)our model will not be giving higher accuracy then previous model\n",
    "eg: (M4 - 10 features , M5 - 12 Features )now threshold value is fixed to 10 so now, M5 will not have higher accuracy \n",
    "then M4\n",
    "\n",
    "it is not always necessary that as we go on increasing the No. of feature your model will give better accuracy.\n",
    "its because that No. of <b>Dimentions</b> is increasing.\n",
    "\n",
    "<b>why this happens?</b>\n",
    "\n",
    "its because that model is able to learn more and more unique information about data.but after the threshold value ,what \n",
    "happens is that as the No. of features increases exponentionally, because of this model cannot get the unique features\n",
    "hence accuracy decreases."
   ]
  },
  {
   "cell_type": "code",
   "execution_count": null,
   "metadata": {},
   "outputs": [],
   "source": []
  }
 ],
 "metadata": {
  "kernelspec": {
   "display_name": "Python 3",
   "language": "python",
   "name": "python3"
  },
  "language_info": {
   "codemirror_mode": {
    "name": "ipython",
    "version": 3
   },
   "file_extension": ".py",
   "mimetype": "text/x-python",
   "name": "python",
   "nbconvert_exporter": "python",
   "pygments_lexer": "ipython3",
   "version": "3.6.10"
  }
 },
 "nbformat": 4,
 "nbformat_minor": 4
}
